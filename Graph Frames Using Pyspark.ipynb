{
  "cells": [
    {
      "cell_type": "markdown",
      "id": "779b346d",
      "metadata": {
        "id": "779b346d"
      },
      "source": [
        "## The following section is for Colab Users.\n",
        "### Just run the following code cells"
      ]
    },
    {
      "cell_type": "code",
      "execution_count": null,
      "id": "7d73eb01",
      "metadata": {
        "id": "7d73eb01"
      },
      "outputs": [],
      "source": [
        "!apt-get install openjdk-11-jdk-headless -qq > /dev/null\n",
        "!wget -q https://bitbucket.org/habedi/datasets/raw/b6769c4664e7ff68b001e2f43bc517888cbe3642/spark/spark-3.0.2-bin-hadoop2.7.tgz\n",
        "!tar xf spark-3.0.2-bin-hadoop2.7.tgz\n",
        "!rm -rf spark-3.0.2-bin-hadoop2.7.tgz*\n",
        "!pip -q install findspark pyspark graphframes"
      ]
    },
    {
      "cell_type": "code",
      "execution_count": null,
      "id": "299e0d6a",
      "metadata": {
        "id": "299e0d6a"
      },
      "outputs": [],
      "source": [
        "!wget https://repos.spark-packages.org/graphframes/graphframes/0.8.2-spark3.0-s_2.12/graphframes-0.8.2-spark3.0-s_2.12.jar -P /content/spark-3.0.2-bin-hadoop2.7/jars/\n",
        "!cp /content/spark-3.0.2-bin-hadoop2.7/jars/graphframes-0.8.2-spark3.0-s_2.12.jar /content/spark-3.0.2-bin-hadoop2.7/graphframes-0.8.2-spark3.0-s_2.12.zip"
      ]
    },
    {
      "cell_type": "code",
      "execution_count": null,
      "id": "ee0d39ec",
      "metadata": {
        "id": "ee0d39ec"
      },
      "outputs": [],
      "source": [
        "import os\n",
        "\n",
        "os.environ[\"JAVA_HOME\"] = \"/usr/lib/jvm/java-11-openjdk-amd64\"\n",
        "os.environ[\"SPARK_HOME\"] = \"/content/spark-3.0.2-bin-hadoop2.7\"\n",
        "os.environ[\"HADOOP_HOME\"] = os.environ[\"SPARK_HOME\"]\n",
        "\n",
        "os.environ[\"PYSPARK_DRIVER_PYTHON\"] = \"jupyter\"\n",
        "os.environ[\"PYSPARK_DRIVER_PYTHON_OPTS\"] = \"notebook\"\n",
        "os.environ[\"PYSPARK_SUBMIT_ARGS\"] = \"--master local[*] pyspark-shell\""
      ]
    },
    {
      "cell_type": "code",
      "execution_count": null,
      "id": "7136d8e6",
      "metadata": {
        "id": "7136d8e6"
      },
      "outputs": [],
      "source": [
        "import findspark\n",
        "findspark.init()"
      ]
    },
    {
      "cell_type": "code",
      "execution_count": null,
      "id": "92f3e19b",
      "metadata": {
        "id": "92f3e19b"
      },
      "outputs": [],
      "source": [
        "!export PYSPARK_SUBMIT_ARGS=\"--master local[*] pyspark-shell\"\n",
        "!export PYSPARK_DRIVER_PYTHON=jupyter\n",
        "!export PYSPARK_DRIVER_PYTHON_OPTS=notebook"
      ]
    },
    {
      "cell_type": "code",
      "execution_count": null,
      "id": "f1504ff4",
      "metadata": {
        "id": "f1504ff4"
      },
      "outputs": [],
      "source": [
        "from pyspark.sql import SparkSession\n",
        "from graphframes import *\n",
        "\n",
        "spark = SparkSession.builder.master(\"local[*]\").appName(\"GraphFrames\").getOrCreate()"
      ]
    },
    {
      "cell_type": "code",
      "execution_count": null,
      "id": "252db99a",
      "metadata": {
        "id": "252db99a"
      },
      "outputs": [],
      "source": [
        "os.environ[\"PYSPARK_SUBMIT_ARGS\"] = \"--packages graphframes:graphframes:0.8.1-spark3.0-s_2.12 pyspark-shell\""
      ]
    },
    {
      "cell_type": "markdown",
      "id": "66232934",
      "metadata": {
        "id": "66232934"
      },
      "source": [
        "**************************************************************************\n",
        "**************************************************************************\n",
        "**************************************************************************"
      ]
    },
    {
      "cell_type": "code",
      "execution_count": null,
      "id": "c90808ca",
      "metadata": {
        "id": "c90808ca"
      },
      "outputs": [],
      "source": [
        ""
      ]
    },
    {
      "cell_type": "code",
      "execution_count": null,
      "id": "2a0819b3",
      "metadata": {
        "id": "2a0819b3",
        "outputId": "571a8f7e-ea6b-43c5-c7e0-dae295529219"
      },
      "outputs": [
        {
          "data": {
            "text/html": [
              "<style>pre { white-space: pre !important; }</style>"
            ],
            "text/plain": [
              "<IPython.core.display.HTML object>"
            ]
          },
          "metadata": {},
          "output_type": "display_data"
        }
      ],
      "source": [
        "from IPython.display import display, HTML\n",
        "display(HTML(\"<style>pre { white-space: pre !important; }</style>\"))"
      ]
    },
    {
      "cell_type": "markdown",
      "id": "d7f57da0",
      "metadata": {
        "id": "d7f57da0"
      },
      "source": [
        "### Read departuredelays.csv in Edge DataFrame\n",
        "### Read airport-codes-na.txt in Vertix DataFrame (the separator is Tab i.e sep = '\\t' )"
      ]
    },
    {
      "cell_type": "code",
      "execution_count": null,
      "id": "d36fd9bb",
      "metadata": {
        "id": "d36fd9bb",
        "outputId": "cd0dd8c5-57fa-4178-e416-47b412f863ae"
      },
      "outputs": [
        {
          "data": {
            "text/plain": [
              "'3.2.1'"
            ]
          },
          "execution_count": 1,
          "metadata": {},
          "output_type": "execute_result"
        }
      ],
      "source": [
        "import pyspark\n",
        "\n",
        "pyspark.__version__"
      ]
    },
    {
      "cell_type": "code",
      "execution_count": null,
      "id": "e181e83c",
      "metadata": {
        "id": "e181e83c",
        "outputId": "b7b332f2-3ae2-4f22-eaa4-9cb45fa260dd"
      },
      "outputs": [
        {
          "name": "stderr",
          "output_type": "stream",
          "text": [
            "22/07/13 21:10:52 WARN Utils: Your hostname, mohamed-VirtualBox resolves to a loopback address: 127.0.1.1; using 10.0.2.15 instead (on interface enp0s3)\n",
            "22/07/13 21:10:52 WARN Utils: Set SPARK_LOCAL_IP if you need to bind to another address\n",
            "WARNING: An illegal reflective access operation has occurred\n",
            "WARNING: Illegal reflective access by org.apache.spark.unsafe.Platform (file:/opt/spark/spark-3.2.1-bin-hadoop3.2/jars/spark-unsafe_2.12-3.2.1.jar) to constructor java.nio.DirectByteBuffer(long,int)\n",
            "WARNING: Please consider reporting this to the maintainers of org.apache.spark.unsafe.Platform\n",
            "WARNING: Use --illegal-access=warn to enable warnings of further illegal reflective access operations\n",
            "WARNING: All illegal access operations will be denied in a future release\n",
            "Using Spark's default log4j profile: org/apache/spark/log4j-defaults.properties\n",
            "Setting default log level to \"WARN\".\n",
            "To adjust logging level use sc.setLogLevel(newLevel). For SparkR, use setLogLevel(newLevel).\n",
            "22/07/13 21:10:53 WARN NativeCodeLoader: Unable to load native-hadoop library for your platform... using builtin-java classes where applicable\n"
          ]
        }
      ],
      "source": [
        "from pyspark.sql import SparkSession\n",
        "from graphframes import *\n",
        "\n",
        "spark = SparkSession.builder.master(\"local[*]\").appName(\"GraphFrames\").getOrCreate()"
      ]
    },
    {
      "cell_type": "code",
      "execution_count": null,
      "id": "2590a987",
      "metadata": {
        "id": "2590a987"
      },
      "outputs": [],
      "source": [
        "Vertix = spark.read.options(delimiter = '\\t').csv('airport-codes-na.txt',inferSchema = True, header = True)"
      ]
    },
    {
      "cell_type": "code",
      "execution_count": null,
      "id": "c5891735",
      "metadata": {
        "id": "c5891735",
        "outputId": "2e716780-e701-46e1-9393-645e5bc8fa8c"
      },
      "outputs": [
        {
          "name": "stderr",
          "output_type": "stream",
          "text": [
            "                                                                                \r"
          ]
        }
      ],
      "source": [
        "Edge = spark.read.csv('departuredelays.csv' ,inferSchema = True, header = True)"
      ]
    },
    {
      "cell_type": "markdown",
      "id": "631c334e",
      "metadata": {
        "id": "631c334e"
      },
      "source": [
        "#### The US flight delays data set has five columns:\n",
        "- The <b>date</b> column contains an integer like 02190925 . When converted, this maps to 02-19 09:25 am.\n",
        "- The <b>delay</b> column gives the delay in minutes between the scheduled and actual departure times. Early departures show negative numbers.\n",
        "- The <b>distance</b> column gives the distance in miles from the origin airport to the destination airport.\n",
        "- The <b>origin</b> column contains the origin IATA airport code.\n",
        "- The <b>destination</b> column contains the destination IATA airport code.\n",
        "\n",
        "#### The airport-codes data set has four columns:\n",
        "- The <b>IATA</b> column contains IATA airport code.\n",
        "- The <b>City, State, and Country</b> columns contains information about the airport location. "
      ]
    },
    {
      "cell_type": "code",
      "execution_count": null,
      "id": "64a32944",
      "metadata": {
        "id": "64a32944",
        "outputId": "0e39f88c-91fa-40dd-cccc-c4e5bcac0c69"
      },
      "outputs": [
        {
          "name": "stdout",
          "output_type": "stream",
          "text": [
            "+----------+-----+-------+----+\n",
            "|      City|State|Country|IATA|\n",
            "+----------+-----+-------+----+\n",
            "|Abbotsford|   BC| Canada| YXX|\n",
            "|  Aberdeen|   SD|    USA| ABR|\n",
            "|   Abilene|   TX|    USA| ABI|\n",
            "|     Akron|   OH|    USA| CAK|\n",
            "|   Alamosa|   CO|    USA| ALS|\n",
            "+----------+-----+-------+----+\n",
            "only showing top 5 rows\n",
            "\n"
          ]
        }
      ],
      "source": [
        "Vertix.show(5)"
      ]
    },
    {
      "cell_type": "markdown",
      "id": "e1d90463",
      "metadata": {
        "id": "e1d90463"
      },
      "source": [
        "### In the vertix DataFrame, drop any duplicated rows with the same  IATA code."
      ]
    },
    {
      "cell_type": "code",
      "execution_count": null,
      "id": "15571db4",
      "metadata": {
        "id": "15571db4"
      },
      "outputs": [],
      "source": [
        "Vertix = Vertix.drop_duplicates(['IATA'])"
      ]
    },
    {
      "cell_type": "markdown",
      "id": "83d1dea8",
      "metadata": {
        "id": "83d1dea8"
      },
      "source": [
        "### In the edges DataFrame:\n",
        "- Rename the <b>date</b> columns to become <b>tripid</b>.\n",
        "- Rename the <b>origin</b> columns to become <b>src</b>.\n",
        "- Rename the <b>destination</b> columns to become <b>dst</b>."
      ]
    },
    {
      "cell_type": "code",
      "execution_count": null,
      "id": "dd90e72e",
      "metadata": {
        "id": "dd90e72e",
        "outputId": "75c82c4a-200b-4b62-a33e-7df2a8d87091"
      },
      "outputs": [
        {
          "name": "stdout",
          "output_type": "stream",
          "text": [
            "+-------+-----+--------+------+-----------+\n",
            "|   date|delay|distance|origin|destination|\n",
            "+-------+-----+--------+------+-----------+\n",
            "|1011245|    6|     602|   ABE|        ATL|\n",
            "|1020600|   -8|     369|   ABE|        DTW|\n",
            "|1021245|   -2|     602|   ABE|        ATL|\n",
            "|1020605|   -4|     602|   ABE|        ATL|\n",
            "|1031245|   -4|     602|   ABE|        ATL|\n",
            "+-------+-----+--------+------+-----------+\n",
            "only showing top 5 rows\n",
            "\n"
          ]
        }
      ],
      "source": [
        "Edge.show(5)"
      ]
    },
    {
      "cell_type": "code",
      "execution_count": null,
      "id": "5319e844",
      "metadata": {
        "id": "5319e844"
      },
      "outputs": [],
      "source": [
        "Edge = Edge.withColumnRenamed('data', 'tripid').withColumnRenamed('origin', 'src').withColumnRenamed('destination', 'dst')"
      ]
    },
    {
      "cell_type": "markdown",
      "id": "260660dc",
      "metadata": {
        "id": "260660dc"
      },
      "source": [
        "### In the Vertix DataFrame:\n",
        "- Rename the <b>IATA</b> columns to become <b>id</b>."
      ]
    },
    {
      "cell_type": "code",
      "execution_count": null,
      "id": "42846969",
      "metadata": {
        "scrolled": false,
        "id": "42846969"
      },
      "outputs": [],
      "source": [
        "Vertix = Vertix.withColumnRenamed('IATA', 'id')"
      ]
    },
    {
      "cell_type": "markdown",
      "id": "4b50a1fe",
      "metadata": {
        "id": "4b50a1fe"
      },
      "source": [
        "### Create GraphFrame from Vertix and Edges DataFrames"
      ]
    },
    {
      "cell_type": "code",
      "execution_count": null,
      "id": "3f2b98de",
      "metadata": {
        "id": "3f2b98de",
        "outputId": "b04e8a5e-0766-47b2-93f6-c34ed23c4cd9"
      },
      "outputs": [
        {
          "name": "stdout",
          "output_type": "stream",
          "text": [
            "+-----------+-----+-------+---+\n",
            "|       City|State|Country| id|\n",
            "+-----------+-----+-------+---+\n",
            "|  Allentown|   PA|    USA|ABE|\n",
            "|    Abilene|   TX|    USA|ABI|\n",
            "|Albuquerque|   NM|    USA|ABQ|\n",
            "|   Aberdeen|   SD|    USA|ABR|\n",
            "|     Albany|   GA|    USA|ABY|\n",
            "+-----------+-----+-------+---+\n",
            "only showing top 5 rows\n",
            "\n"
          ]
        }
      ],
      "source": [
        "Vertix.show(5)"
      ]
    },
    {
      "cell_type": "code",
      "execution_count": null,
      "id": "e88466b2",
      "metadata": {
        "id": "e88466b2",
        "outputId": "7331f224-7e1a-4593-c71a-f0ca8c6e82fd"
      },
      "outputs": [
        {
          "name": "stdout",
          "output_type": "stream",
          "text": [
            "+-------+-----+--------+---+---+\n",
            "|   date|delay|distance|src|dst|\n",
            "+-------+-----+--------+---+---+\n",
            "|1011245|    6|     602|ABE|ATL|\n",
            "|1020600|   -8|     369|ABE|DTW|\n",
            "|1021245|   -2|     602|ABE|ATL|\n",
            "|1020605|   -4|     602|ABE|ATL|\n",
            "|1031245|   -4|     602|ABE|ATL|\n",
            "+-------+-----+--------+---+---+\n",
            "only showing top 5 rows\n",
            "\n"
          ]
        }
      ],
      "source": [
        "Edge.show(5)"
      ]
    },
    {
      "cell_type": "code",
      "execution_count": null,
      "id": "72be9d09",
      "metadata": {
        "id": "72be9d09"
      },
      "outputs": [],
      "source": [
        "gf = GraphFrame(Vertix, Edge)"
      ]
    },
    {
      "cell_type": "code",
      "execution_count": null,
      "id": "a0f09657",
      "metadata": {
        "id": "a0f09657",
        "outputId": "ae4b5afc-9125-44a8-fe7d-da1f5f09f58e"
      },
      "outputs": [
        {
          "name": "stdout",
          "output_type": "stream",
          "text": [
            "+-----------+-----+-------+---+\n",
            "|       City|State|Country| id|\n",
            "+-----------+-----+-------+---+\n",
            "|  Allentown|   PA|    USA|ABE|\n",
            "|    Abilene|   TX|    USA|ABI|\n",
            "|Albuquerque|   NM|    USA|ABQ|\n",
            "|   Aberdeen|   SD|    USA|ABR|\n",
            "|     Albany|   GA|    USA|ABY|\n",
            "+-----------+-----+-------+---+\n",
            "only showing top 5 rows\n",
            "\n"
          ]
        }
      ],
      "source": [
        "gf.vertices.show(5)"
      ]
    },
    {
      "cell_type": "markdown",
      "id": "abd2ebc6",
      "metadata": {
        "id": "abd2ebc6"
      },
      "source": [
        "### Determine the number of airports"
      ]
    },
    {
      "cell_type": "code",
      "execution_count": null,
      "id": "f38688c9",
      "metadata": {
        "id": "f38688c9",
        "outputId": "1f414365-d4fb-4404-b249-ef8f628b8a4c"
      },
      "outputs": [
        {
          "data": {
            "text/plain": [
              "524"
            ]
          },
          "execution_count": 14,
          "metadata": {},
          "output_type": "execute_result"
        }
      ],
      "source": [
        "gf.vertices.select('id').count()"
      ]
    },
    {
      "cell_type": "markdown",
      "id": "435187a8",
      "metadata": {
        "id": "435187a8"
      },
      "source": [
        "### Determine the number of trips "
      ]
    },
    {
      "cell_type": "code",
      "execution_count": null,
      "id": "db2a507d",
      "metadata": {
        "id": "db2a507d",
        "outputId": "9df2e32f-848c-48da-df38-61ed64ef79d2"
      },
      "outputs": [
        {
          "name": "stderr",
          "output_type": "stream",
          "text": [
            "                                                                                \r"
          ]
        },
        {
          "data": {
            "text/plain": [
              "1391578"
            ]
          },
          "execution_count": 15,
          "metadata": {},
          "output_type": "execute_result"
        }
      ],
      "source": [
        "gf.edges.count()"
      ]
    },
    {
      "cell_type": "markdown",
      "id": "dec8731f",
      "metadata": {
        "id": "dec8731f"
      },
      "source": [
        "### What is the longest delay?"
      ]
    },
    {
      "cell_type": "code",
      "execution_count": null,
      "id": "df3d6aac",
      "metadata": {
        "id": "df3d6aac",
        "outputId": "5a4bc231-9289-4489-f48b-15bdf39ec16f"
      },
      "outputs": [
        {
          "name": "stdout",
          "output_type": "stream",
          "text": [
            "+----------+\n",
            "|max(delay)|\n",
            "+----------+\n",
            "|      1642|\n",
            "+----------+\n",
            "\n"
          ]
        },
        {
          "name": "stderr",
          "output_type": "stream",
          "text": [
            "                                                                                \r"
          ]
        }
      ],
      "source": [
        "gf.edges.agg({'delay': 'max'}).show()"
      ]
    },
    {
      "cell_type": "markdown",
      "id": "202d888c",
      "metadata": {
        "id": "202d888c"
      },
      "source": [
        "### Find out the number of delayed flights vs. early flights (flights that departed before actual time)"
      ]
    },
    {
      "cell_type": "code",
      "execution_count": null,
      "id": "7143e9d7",
      "metadata": {
        "id": "7143e9d7",
        "outputId": "61ea052c-d34f-420e-b614-bd040d22dae8"
      },
      "outputs": [
        {
          "name": "stdout",
          "output_type": "stream",
          "text": [
            "+-------+-----+--------+---+---+\n",
            "|   date|delay|distance|src|dst|\n",
            "+-------+-----+--------+---+---+\n",
            "|1011245|    6|     602|ABE|ATL|\n",
            "|1020600|   -8|     369|ABE|DTW|\n",
            "|1021245|   -2|     602|ABE|ATL|\n",
            "|1020605|   -4|     602|ABE|ATL|\n",
            "|1031245|   -4|     602|ABE|ATL|\n",
            "+-------+-----+--------+---+---+\n",
            "only showing top 5 rows\n",
            "\n"
          ]
        }
      ],
      "source": [
        "gf.edges.show(5)"
      ]
    },
    {
      "cell_type": "code",
      "execution_count": null,
      "id": "7cdd7ff7",
      "metadata": {
        "id": "7cdd7ff7",
        "outputId": "dabcbaeb-140f-4cb7-d4c3-72441c0aac57"
      },
      "outputs": [
        {
          "name": "stderr",
          "output_type": "stream",
          "text": [
            "                                                                                \r"
          ]
        },
        {
          "name": "stdout",
          "output_type": "stream",
          "text": [
            "Delayed flights: 591727\n",
            "vs\n",
            "Early Flights: 668729\n"
          ]
        }
      ],
      "source": [
        "print(f\"Delayed flights: {gf.edges.select('delay').where(gf.edges.delay > 0).count()}\\nvs\\nEarly Flights: {gf.edges.select('delay').where(gf.edges.delay < 0).count()}\")"
      ]
    },
    {
      "cell_type": "markdown",
      "id": "30961bc3",
      "metadata": {
        "id": "30961bc3"
      },
      "source": [
        "### What flight destinations departing SFO are most likely to have significant delays? Select the top 10\n",
        "#### Hint: you should get the average delay for each destination for trips that depart from SFO only"
      ]
    },
    {
      "cell_type": "code",
      "execution_count": null,
      "id": "afdc6842",
      "metadata": {
        "id": "afdc6842",
        "outputId": "c552ba37-65b6-4c93-ef60-f80222af2413"
      },
      "outputs": [
        {
          "name": "stderr",
          "output_type": "stream",
          "text": [
            "[Stage 32:==============>                                           (1 + 3) / 4]\r"
          ]
        },
        {
          "name": "stdout",
          "output_type": "stream",
          "text": [
            "+---+\n",
            "|dst|\n",
            "+---+\n",
            "|JAC|\n",
            "|OKC|\n",
            "|SUN|\n",
            "|COS|\n",
            "|SAT|\n",
            "|STL|\n",
            "|HNL|\n",
            "|ASE|\n",
            "|CEC|\n",
            "|MDW|\n",
            "+---+\n",
            "only showing top 10 rows\n",
            "\n"
          ]
        },
        {
          "name": "stderr",
          "output_type": "stream",
          "text": [
            "                                                                                \r"
          ]
        }
      ],
      "source": [
        "from pyspark.sql.functions import avg, col\n",
        "\n",
        "gf.edges.select(['src', 'dst', 'delay']) \\\n",
        "        .where(gf.edges.src == 'SFO') \\\n",
        "        .groupBy('dst') \\\n",
        "        .agg(avg('delay').alias('Average Delay')) \\\n",
        "        .sort(col('Average Delay').desc()) \\\n",
        "        .select('dst') \\\n",
        "        .show(10)"
      ]
    },
    {
      "cell_type": "markdown",
      "id": "71d46665",
      "metadata": {
        "id": "71d46665"
      },
      "source": [
        "### Find the Incoming connections to the airport sorted in Desc. order."
      ]
    },
    {
      "cell_type": "code",
      "execution_count": null,
      "id": "6a0fffc4",
      "metadata": {
        "id": "6a0fffc4",
        "outputId": "d661a6f6-ec65-4458-980d-325aed81d169"
      },
      "outputs": [
        {
          "name": "stderr",
          "output_type": "stream",
          "text": [
            "[Stage 35:==============>                                           (1 + 3) / 4]\r"
          ]
        },
        {
          "name": "stdout",
          "output_type": "stream",
          "text": [
            "+---+--------+\n",
            "| id|inDegree|\n",
            "+---+--------+\n",
            "|ATL|   90434|\n",
            "|DFW|   66050|\n",
            "|ORD|   61967|\n",
            "|LAX|   53601|\n",
            "|DEN|   50921|\n",
            "|IAH|   42700|\n",
            "|PHX|   39721|\n",
            "|SFO|   38988|\n",
            "|LAS|   32994|\n",
            "|CLT|   28388|\n",
            "|MCO|   27959|\n",
            "|EWR|   27652|\n",
            "|LGA|   25469|\n",
            "|BOS|   25360|\n",
            "|SLC|   25323|\n",
            "|JFK|   23484|\n",
            "|DTW|   23310|\n",
            "|SEA|   23074|\n",
            "|MSP|   22385|\n",
            "|MIA|   21805|\n",
            "+---+--------+\n",
            "only showing top 20 rows\n",
            "\n"
          ]
        },
        {
          "name": "stderr",
          "output_type": "stream",
          "text": [
            "                                                                                \r"
          ]
        }
      ],
      "source": [
        "gf.inDegrees.sort(col('inDegree').desc()).show()"
      ]
    },
    {
      "cell_type": "markdown",
      "id": "d1b6509d",
      "metadata": {
        "id": "d1b6509d"
      },
      "source": [
        "### Find the Outgoing connections from the airport sorted in Desc. order."
      ]
    },
    {
      "cell_type": "code",
      "execution_count": null,
      "id": "631af51d",
      "metadata": {
        "id": "631af51d",
        "outputId": "62b77e1e-e548-4253-da1e-0c3815d21186"
      },
      "outputs": [
        {
          "name": "stderr",
          "output_type": "stream",
          "text": [
            "[Stage 38:>                                                         (0 + 4) / 4]\r"
          ]
        },
        {
          "name": "stdout",
          "output_type": "stream",
          "text": [
            "+---+---------+\n",
            "| id|outDegree|\n",
            "+---+---------+\n",
            "|ATL|    91484|\n",
            "|DFW|    68482|\n",
            "|ORD|    64228|\n",
            "|LAX|    54086|\n",
            "|DEN|    53148|\n",
            "|IAH|    43361|\n",
            "|PHX|    40155|\n",
            "|SFO|    39483|\n",
            "|LAS|    33107|\n",
            "|CLT|    28402|\n",
            "|MCO|    28313|\n",
            "|EWR|    27656|\n",
            "|SLC|    25868|\n",
            "|LGA|    25458|\n",
            "|BOS|    25348|\n",
            "|MSP|    24031|\n",
            "|JFK|    23572|\n",
            "|DTW|    23421|\n",
            "|SEA|    23078|\n",
            "|MIA|    21817|\n",
            "+---+---------+\n",
            "only showing top 20 rows\n",
            "\n"
          ]
        },
        {
          "name": "stderr",
          "output_type": "stream",
          "text": [
            "                                                                                \r"
          ]
        }
      ],
      "source": [
        "gf.outDegrees.sort(col('outDegree').desc()).show()"
      ]
    },
    {
      "cell_type": "markdown",
      "id": "fbec58ce",
      "metadata": {
        "id": "fbec58ce"
      },
      "source": [
        "### Use motif finding to answer this question: which delays could we blame on SFO?\n",
        "#### Hint: this practically means that SFO is a transit station"
      ]
    },
    {
      "cell_type": "code",
      "execution_count": null,
      "id": "db17f3df",
      "metadata": {
        "id": "db17f3df",
        "outputId": "2c844093-c918-4c49-e765-4d8709b8680b"
      },
      "outputs": [
        {
          "name": "stderr",
          "output_type": "stream",
          "text": [
            "[Stage 80:=============================>                            (2 + 2) / 4]\r"
          ]
        },
        {
          "name": "stdout",
          "output_type": "stream",
          "text": [
            "+--------------------+--------------------+--------------------+--------------------+--------------------+\n",
            "|                  v1|                  e1|                  v2|                  e2|                  v3|\n",
            "+--------------------+--------------------+--------------------+--------------------+--------------------+\n",
            "|{Dallas, TX, USA,...|{1011810, -4, 78,...|{Waco, TX, USA, ACT}|{1011920, -8, 78,...|{Dallas, TX, USA,...|\n",
            "|{Dallas, TX, USA,...|{1011810, -4, 78,...|{Waco, TX, USA, ACT}|{1011130, -7, 78,...|{Dallas, TX, USA,...|\n",
            "|{Dallas, TX, USA,...|{1011810, -4, 78,...|{Waco, TX, USA, ACT}|{1011720, 18, 78,...|{Dallas, TX, USA,...|\n",
            "|{Dallas, TX, USA,...|{1011810, -4, 78,...|{Waco, TX, USA, ACT}|{1011430, -5, 78,...|{Dallas, TX, USA,...|\n",
            "|{Dallas, TX, USA,...|{1011810, -4, 78,...|{Waco, TX, USA, ACT}|{1010610, -1, 78,...|{Dallas, TX, USA,...|\n",
            "+--------------------+--------------------+--------------------+--------------------+--------------------+\n",
            "only showing top 5 rows\n",
            "\n"
          ]
        },
        {
          "name": "stderr",
          "output_type": "stream",
          "text": [
            "                                                                                \r"
          ]
        }
      ],
      "source": [
        "motifs = gf.find(\"(v1)-[e1]->(v2); (v2)-[e2]->(v3)\")\n",
        "motifs.show(5)"
      ]
    },
    {
      "cell_type": "code",
      "execution_count": null,
      "id": "de3973d8",
      "metadata": {
        "id": "de3973d8",
        "outputId": "677c1e56-e244-40ec-87a7-6e74da2cc98b"
      },
      "outputs": [
        {
          "name": "stdout",
          "output_type": "stream",
          "text": [
            "root\n",
            " |-- v1: struct (nullable = false)\n",
            " |    |-- City: string (nullable = true)\n",
            " |    |-- State: string (nullable = true)\n",
            " |    |-- Country: string (nullable = true)\n",
            " |    |-- id: string (nullable = true)\n",
            " |-- e1: struct (nullable = false)\n",
            " |    |-- date: integer (nullable = true)\n",
            " |    |-- delay: integer (nullable = true)\n",
            " |    |-- distance: integer (nullable = true)\n",
            " |    |-- src: string (nullable = true)\n",
            " |    |-- dst: string (nullable = true)\n",
            " |-- v2: struct (nullable = false)\n",
            " |    |-- City: string (nullable = true)\n",
            " |    |-- State: string (nullable = true)\n",
            " |    |-- Country: string (nullable = true)\n",
            " |    |-- id: string (nullable = true)\n",
            " |-- e2: struct (nullable = false)\n",
            " |    |-- date: integer (nullable = true)\n",
            " |    |-- delay: integer (nullable = true)\n",
            " |    |-- distance: integer (nullable = true)\n",
            " |    |-- src: string (nullable = true)\n",
            " |    |-- dst: string (nullable = true)\n",
            " |-- v3: struct (nullable = false)\n",
            " |    |-- City: string (nullable = true)\n",
            " |    |-- State: string (nullable = true)\n",
            " |    |-- Country: string (nullable = true)\n",
            " |    |-- id: string (nullable = true)\n",
            "\n"
          ]
        }
      ],
      "source": [
        "motifs.printSchema()"
      ]
    },
    {
      "cell_type": "code",
      "execution_count": null,
      "id": "1a977f4b",
      "metadata": {
        "id": "1a977f4b",
        "outputId": "91219366-a1d9-402f-cdda-d1d0f3fd50d0"
      },
      "outputs": [
        {
          "name": "stderr",
          "output_type": "stream",
          "text": [
            "                                                                                \r"
          ]
        },
        {
          "name": "stdout",
          "output_type": "stream",
          "text": [
            "+--------------------+--------------------+--------------------+--------------------+--------------------+\n",
            "|                  v1|                  e1|                  v2|                  e2|                  v3|\n",
            "+--------------------+--------------------+--------------------+--------------------+--------------------+\n",
            "|{Albuquerque, NM,...|{1010600, -7, 779...|{San Francisco, C...|{1011250, 55, 224...|{New York, NY, US...|\n",
            "|{Albuquerque, NM,...|{1010600, -7, 779...|{San Francisco, C...|{1012230, 0, 2247...|{New York, NY, US...|\n",
            "|{Albuquerque, NM,...|{1010600, -7, 779...|{San Francisco, C...|{1010705, -7, 224...|{New York, NY, US...|\n",
            "|{Albuquerque, NM,...|{1010600, -7, 779...|{San Francisco, C...|{1010620, -3, 224...|{Miami, FL, USA, ...|\n",
            "|{Albuquerque, NM,...|{1010600, -7, 779...|{San Francisco, C...|{1010915, -3, 293...|{Los Angeles, CA,...|\n",
            "+--------------------+--------------------+--------------------+--------------------+--------------------+\n",
            "only showing top 5 rows\n",
            "\n"
          ]
        }
      ],
      "source": [
        "motifs.filter(\"v2.id == 'SFO'\").show(5)"
      ]
    },
    {
      "cell_type": "markdown",
      "id": "cc1ece96",
      "metadata": {
        "id": "cc1ece96"
      },
      "source": [
        "### Determine Airport Ranking in Desc. order using PageRank algorithm"
      ]
    },
    {
      "cell_type": "code",
      "execution_count": null,
      "id": "f754d545",
      "metadata": {
        "id": "f754d545",
        "outputId": "c70cbc37-8d95-46ad-b421-41d2b21f0694"
      },
      "outputs": [
        {
          "name": "stderr",
          "output_type": "stream",
          "text": [
            "                                                                                \r"
          ]
        }
      ],
      "source": [
        "results = gf.pageRank(resetProbability = 0.9, maxIter = 5)"
      ]
    },
    {
      "cell_type": "code",
      "execution_count": null,
      "id": "6b710e3f",
      "metadata": {
        "id": "6b710e3f",
        "outputId": "c0e1369d-5950-46c2-c437-4a0d93135cdb"
      },
      "outputs": [
        {
          "name": "stderr",
          "output_type": "stream",
          "text": [
            "                                                                                \r"
          ]
        },
        {
          "name": "stdout",
          "output_type": "stream",
          "text": [
            "+--------------+-----+-------+---+------------------+\n",
            "|          City|State|Country| id|          pagerank|\n",
            "+--------------+-----+-------+---+------------------+\n",
            "|       Atlanta|   GA|    USA|ATL| 4.810793946480082|\n",
            "|       Chicago|   IL|    USA|ORD|  3.68319369373655|\n",
            "|        Dallas|   TX|    USA|DFW|3.5856509969909705|\n",
            "|        Denver|   CO|    USA|DEN|  2.49930002859287|\n",
            "|Salt Lake City|   UT|    USA|SLC| 2.270344538494024|\n",
            "+--------------+-----+-------+---+------------------+\n",
            "only showing top 5 rows\n",
            "\n"
          ]
        }
      ],
      "source": [
        "results.vertices.sort(col('pagerank').desc()).show(5)"
      ]
    },
    {
      "cell_type": "markdown",
      "id": "fe1e7648",
      "metadata": {
        "id": "fe1e7648"
      },
      "source": [
        "## Determine the most popular flights (single city hops)"
      ]
    },
    {
      "cell_type": "code",
      "execution_count": null,
      "id": "da4b3306",
      "metadata": {
        "id": "da4b3306",
        "outputId": "d1865930-71d3-4e84-ed61-fc984e8bce7b"
      },
      "outputs": [
        {
          "name": "stdout",
          "output_type": "stream",
          "text": [
            "+-------+-----+--------+---+---+\n",
            "|   date|delay|distance|src|dst|\n",
            "+-------+-----+--------+---+---+\n",
            "|1011245|    6|     602|ABE|ATL|\n",
            "|1020600|   -8|     369|ABE|DTW|\n",
            "|1021245|   -2|     602|ABE|ATL|\n",
            "|1020605|   -4|     602|ABE|ATL|\n",
            "|1031245|   -4|     602|ABE|ATL|\n",
            "+-------+-----+--------+---+---+\n",
            "only showing top 5 rows\n",
            "\n"
          ]
        }
      ],
      "source": [
        "gf.edges.show(5)"
      ]
    },
    {
      "cell_type": "code",
      "execution_count": null,
      "id": "a7308f50",
      "metadata": {
        "id": "a7308f50",
        "outputId": "700273e6-54fd-4714-f796-54283cb84787"
      },
      "outputs": [
        {
          "name": "stdout",
          "output_type": "stream",
          "text": [
            "+---+---+-----+\n",
            "|src|dst|count|\n",
            "+---+---+-----+\n",
            "|SFO|LAX| 3232|\n",
            "|LAX|SFO| 3198|\n",
            "|LAS|LAX| 3016|\n",
            "|LAX|LAS| 2964|\n",
            "|JFK|LAX| 2720|\n",
            "+---+---+-----+\n",
            "only showing top 5 rows\n",
            "\n"
          ]
        },
        {
          "name": "stderr",
          "output_type": "stream",
          "text": [
            "                                                                                \r"
          ]
        }
      ],
      "source": [
        "gf.edges.groupBy(['src', 'dst']).count().sort(col('count').desc()).show(5)"
      ]
    },
    {
      "cell_type": "markdown",
      "id": "8ebb5e18",
      "metadata": {
        "id": "8ebb5e18"
      },
      "source": [
        "### Find and Save a Subragph that obtained from the following pattern:\n",
        "#### The flight starts from an airport and return back to the same airport through 2 other airports."
      ]
    },
    {
      "cell_type": "code",
      "execution_count": null,
      "id": "00361946",
      "metadata": {
        "id": "00361946"
      },
      "outputs": [],
      "source": [
        ""
      ]
    },
    {
      "cell_type": "code",
      "execution_count": null,
      "id": "bec18c81",
      "metadata": {
        "id": "bec18c81"
      },
      "outputs": [],
      "source": [
        ""
      ]
    }
  ],
  "metadata": {
    "kernelspec": {
      "display_name": "Python 3.10.4 64-bit",
      "language": "python",
      "name": "python3"
    },
    "language_info": {
      "codemirror_mode": {
        "name": "ipython",
        "version": 3
      },
      "file_extension": ".py",
      "mimetype": "text/x-python",
      "name": "python",
      "nbconvert_exporter": "python",
      "pygments_lexer": "ipython3",
      "version": "3.10.4"
    },
    "vscode": {
      "interpreter": {
        "hash": "916dbcbb3f70747c44a77c7bcd40155683ae19c65e1c03b4aa3499c5328201f1"
      }
    },
    "colab": {
      "name": "Copy_GraphFrams_P.S._Student.ipynb",
      "provenance": []
    }
  },
  "nbformat": 4,
  "nbformat_minor": 5
}