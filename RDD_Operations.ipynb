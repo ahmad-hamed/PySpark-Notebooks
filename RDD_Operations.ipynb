{
  "cells": [
    {
      "cell_type": "markdown",
      "id": "2568221b",
      "metadata": {
        "id": "2568221b"
      },
      "source": [
        "### Import the required libraries then Create SparkContext"
      ]
    },
    {
      "cell_type": "code",
      "execution_count": 1,
      "id": "65e6978c",
      "metadata": {
        "id": "65e6978c",
        "colab": {
          "base_uri": "https://localhost:8080/"
        },
        "outputId": "fd3188f1-88ee-489f-dc70-5c23efc7b83a"
      },
      "outputs": [
        {
          "output_type": "stream",
          "name": "stdout",
          "text": [
            "Looking in indexes: https://pypi.org/simple, https://us-python.pkg.dev/colab-wheels/public/simple/\n",
            "Collecting pyspark\n",
            "  Downloading pyspark-3.2.1.tar.gz (281.4 MB)\n",
            "\u001b[K     |████████████████████████████████| 281.4 MB 34 kB/s \n",
            "\u001b[?25hCollecting py4j==0.10.9.3\n",
            "  Downloading py4j-0.10.9.3-py2.py3-none-any.whl (198 kB)\n",
            "\u001b[K     |████████████████████████████████| 198 kB 53.5 MB/s \n",
            "\u001b[?25hBuilding wheels for collected packages: pyspark\n",
            "  Building wheel for pyspark (setup.py) ... \u001b[?25l\u001b[?25hdone\n",
            "  Created wheel for pyspark: filename=pyspark-3.2.1-py2.py3-none-any.whl size=281853642 sha256=eafbb5a26d09c87dcb607f59cdb9544b6c7936fcffcbb2abf6b9654531c6d9cd\n",
            "  Stored in directory: /root/.cache/pip/wheels/9f/f5/07/7cd8017084dce4e93e84e92efd1e1d5334db05f2e83bcef74f\n",
            "Successfully built pyspark\n",
            "Installing collected packages: py4j, pyspark\n",
            "Successfully installed py4j-0.10.9.3 pyspark-3.2.1\n"
          ]
        }
      ],
      "source": [
        "!pip install pyspark"
      ]
    },
    {
      "cell_type": "code",
      "source": [
        "from pyspark import SparkContext\n",
        "sc = SparkContext()\n"
      ],
      "metadata": {
        "id": "tF5bIgD7z6Eh"
      },
      "id": "tF5bIgD7z6Eh",
      "execution_count": 2,
      "outputs": []
    },
    {
      "cell_type": "code",
      "source": [
        "import numpy as np\n"
      ],
      "metadata": {
        "id": "D4hb7384z6Gm"
      },
      "id": "D4hb7384z6Gm",
      "execution_count": 91,
      "outputs": []
    },
    {
      "cell_type": "markdown",
      "id": "e9a7d9c6",
      "metadata": {
        "id": "e9a7d9c6"
      },
      "source": [
        "### Create and display an RDD from the following list"
      ]
    },
    {
      "cell_type": "code",
      "execution_count": 3,
      "id": "409084ef",
      "metadata": {
        "id": "409084ef"
      },
      "outputs": [],
      "source": [
        "list = [('JK', 22), ('V', 24), ('Jimin',24), ('RM', 25), ('J-Hope', 25), ('Suga', 26), ('Jin', 27)]"
      ]
    },
    {
      "cell_type": "code",
      "source": [
        "rdd1 = sc.parallelize(list)"
      ],
      "metadata": {
        "id": "jxgoArsBHAmG"
      },
      "id": "jxgoArsBHAmG",
      "execution_count": 6,
      "outputs": []
    },
    {
      "cell_type": "code",
      "source": [
        "rdd1.collect()"
      ],
      "metadata": {
        "colab": {
          "base_uri": "https://localhost:8080/"
        },
        "id": "x5ftKdF9HPYN",
        "outputId": "449f4cfb-c954-48cd-ed3c-3eeec78b4143"
      },
      "id": "x5ftKdF9HPYN",
      "execution_count": 10,
      "outputs": [
        {
          "output_type": "execute_result",
          "data": {
            "text/plain": [
              "[('JK', 22),\n",
              " ('V', 24),\n",
              " ('Jimin', 24),\n",
              " ('RM', 25),\n",
              " ('J-Hope', 25),\n",
              " ('Suga', 26),\n",
              " ('Jin', 27)]"
            ]
          },
          "metadata": {},
          "execution_count": 10
        }
      ]
    },
    {
      "cell_type": "code",
      "execution_count": 10,
      "id": "d5ba0725",
      "metadata": {
        "scrolled": true,
        "id": "d5ba0725"
      },
      "outputs": [],
      "source": [
        ""
      ]
    },
    {
      "cell_type": "markdown",
      "id": "feedfb38",
      "metadata": {
        "id": "feedfb38"
      },
      "source": [
        "### Read sample1.txt file into RDD and displaying the first 4 elements"
      ]
    },
    {
      "cell_type": "code",
      "execution_count": 97,
      "id": "14f5c55a",
      "metadata": {
        "id": "14f5c55a"
      },
      "outputs": [],
      "source": [
        "rddtxt=sc.textFile('/content/sample1.txt')"
      ]
    },
    {
      "cell_type": "code",
      "source": [
        ""
      ],
      "metadata": {
        "id": "LvO8EUBIOBpq"
      },
      "id": "LvO8EUBIOBpq",
      "execution_count": 61,
      "outputs": []
    },
    {
      "cell_type": "markdown",
      "id": "e55ae192",
      "metadata": {
        "id": "e55ae192"
      },
      "source": [
        "### Count the total number of rows in RDD"
      ]
    },
    {
      "cell_type": "code",
      "execution_count": 98,
      "id": "0b3be34e",
      "metadata": {
        "id": "0b3be34e"
      },
      "outputs": [],
      "source": [
        "rddcount = rddtxt.count()"
      ]
    },
    {
      "cell_type": "code",
      "source": [
        "rddcount"
      ],
      "metadata": {
        "colab": {
          "base_uri": "https://localhost:8080/"
        },
        "id": "BsXKcq_2Ivhn",
        "outputId": "4ea09aa2-8ad0-478b-9281-3482162017e2"
      },
      "id": "BsXKcq_2Ivhn",
      "execution_count": 99,
      "outputs": [
        {
          "output_type": "execute_result",
          "data": {
            "text/plain": [
              "7"
            ]
          },
          "metadata": {},
          "execution_count": 99
        }
      ]
    },
    {
      "cell_type": "markdown",
      "id": "35652e93",
      "metadata": {
        "id": "35652e93"
      },
      "source": [
        "### Create a function to convert the data into lower case and splitting it"
      ]
    },
    {
      "cell_type": "code",
      "source": [
        "rddtxt2=rddtxt.map(lambda x:x.lower().split())"
      ],
      "metadata": {
        "id": "excY1f4gJCnm"
      },
      "id": "excY1f4gJCnm",
      "execution_count": 100,
      "outputs": []
    },
    {
      "cell_type": "code",
      "source": [
        "text = rddtxt2.collect()\n"
      ],
      "metadata": {
        "id": "MCJeNBxUJCsP"
      },
      "id": "MCJeNBxUJCsP",
      "execution_count": 130,
      "outputs": []
    },
    {
      "cell_type": "code",
      "execution_count": 131,
      "id": "3e8f7f45",
      "metadata": {
        "scrolled": true,
        "id": "3e8f7f45",
        "outputId": "faf0c546-c8ee-4f8a-b6f8-e477d4f25081",
        "colab": {
          "base_uri": "https://localhost:8080/"
        }
      },
      "outputs": [
        {
          "output_type": "execute_result",
          "data": {
            "text/plain": [
              "[['utilitatis', 'causa', 'amicitia', 'est', 'quaesita.'],\n",
              " ['lorem',\n",
              "  'ipsum',\n",
              "  'dolor',\n",
              "  'sit',\n",
              "  'amet,',\n",
              "  'consectetur',\n",
              "  'adipiscing',\n",
              "  'elit.'],\n",
              " ['collatio',\n",
              "  'igitur',\n",
              "  'ista',\n",
              "  'te',\n",
              "  'nihil',\n",
              "  'iuvat.',\n",
              "  'honesta',\n",
              "  'oratio,',\n",
              "  'socratica,',\n",
              "  'platonis',\n",
              "  'etiam.',\n",
              "  'primum',\n",
              "  'in',\n",
              "  'nostrane',\n",
              "  'potestate',\n",
              "  'est,',\n",
              "  'quid',\n",
              "  'meminerimus?'],\n",
              " ['duo', 'reges:', 'constructio', 'interrete.'],\n",
              " ['quid,',\n",
              "  'si',\n",
              "  'etiam',\n",
              "  'iucunda',\n",
              "  'memoria',\n",
              "  'est',\n",
              "  'praeteritorum',\n",
              "  'malorum?',\n",
              "  'si',\n",
              "  'quidem,',\n",
              "  'inquit,',\n",
              "  'tollerem,',\n",
              "  'sed',\n",
              "  'relinquo.',\n",
              "  'an',\n",
              "  'nisi',\n",
              "  'populari',\n",
              "  'fama?'],\n",
              " [],\n",
              " ['quamquam',\n",
              "  'id',\n",
              "  'quidem',\n",
              "  'licebit',\n",
              "  'iis',\n",
              "  'existimare,',\n",
              "  'qui',\n",
              "  'legerint.',\n",
              "  'summum',\n",
              "  'a',\n",
              "  'vobis',\n",
              "  'bonum',\n",
              "  'voluptas',\n",
              "  'dicitur.',\n",
              "  'at',\n",
              "  'hoc',\n",
              "  'in',\n",
              "  'eo',\n",
              "  'm.',\n",
              "  'refert',\n",
              "  'tamen,',\n",
              "  'quo',\n",
              "  'modo.',\n",
              "  'quid',\n",
              "  'sequatur,',\n",
              "  'quid',\n",
              "  'repugnet,',\n",
              "  'vident.',\n",
              "  'iam',\n",
              "  'id',\n",
              "  'ipsum',\n",
              "  'absurdum,',\n",
              "  'maximum',\n",
              "  'malum',\n",
              "  'neglegi.']]"
            ]
          },
          "metadata": {},
          "execution_count": 131
        }
      ],
      "source": [
        "text"
      ]
    },
    {
      "cell_type": "markdown",
      "id": "4cfa29af",
      "metadata": {
        "id": "4cfa29af"
      },
      "source": [
        "### Filter the stopwords from the previous text"
      ]
    },
    {
      "cell_type": "code",
      "execution_count": 103,
      "id": "97c1e731",
      "metadata": {
        "id": "97c1e731"
      },
      "outputs": [],
      "source": [
        "stopwords = ['a','all','the','as','is','am','an','and',\n",
        "             'be','been','from','had','I','I’d','why','with']\n",
        "# Hint: you may need use flatMap"
      ]
    },
    {
      "cell_type": "code",
      "source": [
        "# rddtxt2.flatMap(lambda x:x).filter(lambda words : [word for word in words if(ch.issubst( set(word)) for ch in stopwords)] ).collect()"
      ],
      "metadata": {
        "id": "wYlOH4orPq5z"
      },
      "id": "wYlOH4orPq5z",
      "execution_count": 129,
      "outputs": []
    },
    {
      "cell_type": "code",
      "source": [
        "rddtxt2.flatMap(lambda x:x).filter(lambda words :[word for word in words if word.lower() in stopwords]).collect()"
      ],
      "metadata": {
        "colab": {
          "base_uri": "https://localhost:8080/"
        },
        "id": "v5rAizVFf7aY",
        "outputId": "3a026ba3-9428-4883-d431-d0bc50c53c00"
      },
      "id": "v5rAizVFf7aY",
      "execution_count": 128,
      "outputs": [
        {
          "output_type": "execute_result",
          "data": {
            "text/plain": [
              "['utilitatis',\n",
              " 'causa',\n",
              " 'amicitia',\n",
              " 'quaesita.',\n",
              " 'amet,',\n",
              " 'adipiscing',\n",
              " 'collatio',\n",
              " 'ista',\n",
              " 'iuvat.',\n",
              " 'honesta',\n",
              " 'oratio,',\n",
              " 'socratica,',\n",
              " 'platonis',\n",
              " 'etiam.',\n",
              " 'nostrane',\n",
              " 'potestate',\n",
              " 'etiam',\n",
              " 'iucunda',\n",
              " 'memoria',\n",
              " 'praeteritorum',\n",
              " 'malorum?',\n",
              " 'an',\n",
              " 'populari',\n",
              " 'fama?',\n",
              " 'quamquam',\n",
              " 'existimare,',\n",
              " 'a',\n",
              " 'voluptas',\n",
              " 'at',\n",
              " 'tamen,',\n",
              " 'sequatur,',\n",
              " 'iam',\n",
              " 'absurdum,',\n",
              " 'maximum',\n",
              " 'malum']"
            ]
          },
          "metadata": {},
          "execution_count": 128
        }
      ]
    },
    {
      "cell_type": "code",
      "source": [
        ""
      ],
      "metadata": {
        "id": "HQt67OvOachT"
      },
      "id": "HQt67OvOachT",
      "execution_count": 131,
      "outputs": []
    },
    {
      "cell_type": "markdown",
      "id": "eb066a90",
      "metadata": {
        "id": "eb066a90"
      },
      "source": [
        "### Filter the words starting with ‘c’"
      ]
    },
    {
      "cell_type": "code",
      "source": [
        "rddtxt2.flatMap(lambda x:x).filter(lambda y:y.startswith('c')).collect()"
      ],
      "metadata": {
        "colab": {
          "base_uri": "https://localhost:8080/"
        },
        "id": "ozfvEEYiKvaH",
        "outputId": "4fb69efb-ff48-4651-a817-b292f955fe0a"
      },
      "id": "ozfvEEYiKvaH",
      "execution_count": 68,
      "outputs": [
        {
          "output_type": "execute_result",
          "data": {
            "text/plain": [
              "['causa', 'consectetur', 'collatio', 'constructio']"
            ]
          },
          "metadata": {},
          "execution_count": 68
        }
      ]
    },
    {
      "cell_type": "markdown",
      "id": "eba39e2e",
      "metadata": {
        "id": "eba39e2e"
      },
      "source": [
        "### Reduce the data by key and sum it (use the data from the following list)"
      ]
    },
    {
      "cell_type": "code",
      "execution_count": 82,
      "id": "f26dea46",
      "metadata": {
        "id": "f26dea46"
      },
      "outputs": [],
      "source": [
        "list = [('JK', 22), ('V', 24), ('Jimin',24), ('RM', 25)\n",
        "        , ('J-Hope', 25), ('Suga', 26), ('Jin', 27)\n",
        "       , ('J-Hope', 12), ('Suga', 25), ('Jin', 34)\n",
        "       , ('JK', 32), ('V', 44), ('Jimin',14), ('RM', 35)]\n",
        "# Hint: use reduceByKey"
      ]
    },
    {
      "cell_type": "code",
      "source": [
        "rddnew =sc.parallelize(list)"
      ],
      "metadata": {
        "id": "vDbk-v8MUUJ1"
      },
      "id": "vDbk-v8MUUJ1",
      "execution_count": 83,
      "outputs": []
    },
    {
      "cell_type": "code",
      "source": [
        "rddnew.reduceByKey(lambda a,b : a+b).collect()"
      ],
      "metadata": {
        "colab": {
          "base_uri": "https://localhost:8080/"
        },
        "id": "PUyPjOvdUULr",
        "outputId": "e468af0e-8404-4fc6-c672-c1aebf1c14b3"
      },
      "id": "PUyPjOvdUULr",
      "execution_count": 94,
      "outputs": [
        {
          "output_type": "execute_result",
          "data": {
            "text/plain": [
              "[('Suga', 51),\n",
              " ('Jin', 61),\n",
              " ('JK', 54),\n",
              " ('V', 68),\n",
              " ('Jimin', 38),\n",
              " ('RM', 60),\n",
              " ('J-Hope', 37)]"
            ]
          },
          "metadata": {},
          "execution_count": 94
        }
      ]
    },
    {
      "cell_type": "code",
      "execution_count": 94,
      "id": "ae551b82",
      "metadata": {
        "id": "ae551b82"
      },
      "outputs": [],
      "source": [
        ""
      ]
    },
    {
      "cell_type": "markdown",
      "id": "a4587230",
      "metadata": {
        "id": "a4587230"
      },
      "source": [
        "### Creat some key value pairs RDDs"
      ]
    },
    {
      "cell_type": "code",
      "execution_count": 95,
      "id": "cfb446ee",
      "metadata": {
        "id": "cfb446ee"
      },
      "outputs": [],
      "source": [
        "rdd1 = sc.parallelize([('a',2),('b',3)])\n",
        "rdd2 = sc.parallelize([('a',9),('b',7),('c',10)])"
      ]
    },
    {
      "cell_type": "markdown",
      "id": "98ec3168",
      "metadata": {
        "id": "98ec3168"
      },
      "source": [
        "### Perform Join operation on the RDDs (rdd1,rdd2)"
      ]
    },
    {
      "cell_type": "code",
      "source": [
        "rdd1.join(rdd2).collect()"
      ],
      "metadata": {
        "colab": {
          "base_uri": "https://localhost:8080/"
        },
        "id": "2LEuer_RXX71",
        "outputId": "cd0c6cf5-3858-46e3-cd78-4bc676c13a19"
      },
      "id": "2LEuer_RXX71",
      "execution_count": 96,
      "outputs": [
        {
          "output_type": "execute_result",
          "data": {
            "text/plain": [
              "[('b', (3, 7)), ('a', (2, 9))]"
            ]
          },
          "metadata": {},
          "execution_count": 96
        }
      ]
    },
    {
      "cell_type": "code",
      "execution_count": 96,
      "id": "c61b5926",
      "metadata": {
        "id": "c61b5926"
      },
      "outputs": [],
      "source": [
        ""
      ]
    },
    {
      "cell_type": "code",
      "execution_count": null,
      "id": "5fc98e9f",
      "metadata": {
        "id": "5fc98e9f"
      },
      "outputs": [],
      "source": [
        ""
      ]
    }
  ],
  "metadata": {
    "kernelspec": {
      "display_name": "Python 3",
      "language": "python",
      "name": "python3"
    },
    "language_info": {
      "codemirror_mode": {
        "name": "ipython",
        "version": 3
      },
      "file_extension": ".py",
      "mimetype": "text/x-python",
      "name": "python",
      "nbconvert_exporter": "python",
      "pygments_lexer": "ipython3",
      "version": "3.8.8"
    },
    "colab": {
      "name": "Copy of RDD_Operations.ipynb",
      "provenance": [],
      "collapsed_sections": []
    }
  },
  "nbformat": 4,
  "nbformat_minor": 5
}